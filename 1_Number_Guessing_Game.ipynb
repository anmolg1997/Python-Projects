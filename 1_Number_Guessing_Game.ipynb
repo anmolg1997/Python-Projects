{
  "nbformat": 4,
  "nbformat_minor": 0,
  "metadata": {
    "colab": {
      "name": "1. Number Guessing Game",
      "provenance": [],
      "collapsed_sections": [],
      "authorship_tag": "ABX9TyMbgp7xmu0AxFqhRw3bB1UD",
      "include_colab_link": true
    },
    "kernelspec": {
      "name": "python3",
      "display_name": "Python 3"
    },
    "language_info": {
      "name": "python"
    }
  },
  "cells": [
    {
      "cell_type": "markdown",
      "metadata": {
        "id": "view-in-github",
        "colab_type": "text"
      },
      "source": [
        "<a href=\"https://colab.research.google.com/github/anmolg1997/Python-Projects/blob/main/1_Number_Guessing_Game.ipynb\" target=\"_parent\"><img src=\"https://colab.research.google.com/assets/colab-badge.svg\" alt=\"Open In Colab\"/></a>"
      ]
    },
    {
      "cell_type": "code",
      "execution_count": null,
      "metadata": {
        "id": "4bSDNDdGswz8",
        "colab": {
          "base_uri": "https://localhost:8080/"
        },
        "outputId": "a71791fd-7129-4b49-ddac-e5d75d0e6993"
      },
      "outputs": [
        {
          "output_type": "stream",
          "name": "stdout",
          "text": [
            "Enter Lower bound :- \n",
            "1\n",
            "Enter Upper bound :- \n",
            "12\n",
            "************************************************************\n",
            " \n",
            " You have 4 chances to guess the Jackpot Number.\n",
            " \n",
            "************************************************************\n",
            "Enter the guess 1 for the Jackpot : \n",
            "a\n",
            "Guess an integer, Buddy !!\n",
            "Enter the guess 2 for the Jackpot : \n",
            "6\n",
            "Oopsss !! Too Small... \n",
            "\n",
            "Enter the guess 3 for the Jackpot : \n",
            "9\n",
            "Oopsss !! Too Small... \n",
            "\n",
            "Enter the guess 4 for the Jackpot : \n",
            "11\n",
            "Damnnn !! Too High... \n",
            "\n",
            "\n",
            " You have used all your guesses !!\n"
          ]
        }
      ],
      "source": [
        "import random\n",
        "import math\n",
        "import sys\n",
        "\n",
        "# Take lower bound input\n",
        "flag = 0\n",
        "while True:\n",
        "  flag+=1\n",
        "  try:\n",
        "    lower = int(input(\"Enter Lower bound :- \\n\"))\n",
        "    break\n",
        "  except ValueError:\n",
        "    if flag < 3:\n",
        "      print(\"Kindly input a valid integer.\", end=\" \")\n",
        "    else:\n",
        "      sys.exit(\"You crossed the highest limit of entering an integer value\")\n",
        "\n",
        "# Take Upper bound input\n",
        "flag=0\n",
        "while True:\n",
        "  flag+=1\n",
        "  try:\n",
        "    upper = int(input(\"Enter Upper bound :- \\n\"))\n",
        "    break\n",
        "  except ValueError:\n",
        "    if flag < 3:\n",
        "      print(\"Kindly input a valid integer.\", end=\" \")\n",
        "    else:\n",
        "      sys.exit(\"You crossed the highest limit of entering an integer value\")\n",
        "\n",
        "# Generating Random Number between provided Upper & Lower Bound\n",
        "jackpot = random.randint(lower,upper)\n",
        "\n",
        "#Apprise user about the chances he/she has :\n",
        "chances = round(math.log(upper-lower+1 , 2 ))\n",
        "print(\"*\"*60)\n",
        "print(f\" \\n You have {chances} chances to guess the Jackpot Number.\\n \")\n",
        "print(\"*\"*60)\n",
        "\n",
        "count = 0\n",
        "while count < chances:\n",
        "  count+=1\n",
        "\n",
        "  # let the user guess the Jackpot\n",
        "  try:\n",
        "    guess = int(input(f\"Enter the guess {count} for the Jackpot : \\n\"))\n",
        "\n",
        "    # Testing situations\n",
        "    if guess==jackpot:\n",
        "      print(f\"\\nGreat !! You got the Jackpot at {count} try. \\n\")\n",
        "      break\n",
        "    elif guess < jackpot:\n",
        "      print(\"Oopsss !! Too Small... \\n\")\n",
        "    elif guess > jackpot:\n",
        "      print(\"Damnnn !! Too High... \\n\")\n",
        "  \n",
        "  except ValueError:\n",
        "    print(\"Guess an integer, Buddy !!\")\n",
        "\n",
        "else:\n",
        "  print(\"\\n You have used all your guesses !!\")\n",
        "\n",
        "\n",
        "    "
      ]
    },
    {
      "cell_type": "code",
      "source": [
        ""
      ],
      "metadata": {
        "id": "dYWePYpiL689"
      },
      "execution_count": null,
      "outputs": []
    }
  ]
}