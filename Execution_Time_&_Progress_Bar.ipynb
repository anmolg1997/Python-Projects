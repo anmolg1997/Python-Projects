{
  "nbformat": 4,
  "nbformat_minor": 0,
  "metadata": {
    "colab": {
      "name": "Execution Time & Progress Bar.ipynb",
      "provenance": [],
      "authorship_tag": "ABX9TyM/u0XlhHoUEqMKHo3K9Vz5",
      "include_colab_link": true
    },
    "kernelspec": {
      "name": "python3",
      "display_name": "Python 3"
    },
    "language_info": {
      "name": "python"
    }
  },
  "cells": [
    {
      "cell_type": "markdown",
      "metadata": {
        "id": "view-in-github",
        "colab_type": "text"
      },
      "source": [
        "<a href=\"https://colab.research.google.com/github/anmolg1997/Python-Projects/blob/main/Execution_Time_%26_Progress_Bar.ipynb\" target=\"_parent\"><img src=\"https://colab.research.google.com/assets/colab-badge.svg\" alt=\"Open In Colab\"/></a>"
      ]
    },
    {
      "cell_type": "markdown",
      "source": [
        "# Execution time"
      ],
      "metadata": {
        "id": "bMGNiYivICQE"
      }
    },
    {
      "cell_type": "code",
      "source": [
        "#Solution 1 :  Using time module\n",
        "\n",
        "from time import time\n",
        "\n",
        "Start = time()\n",
        "\n",
        "#Acronym Creation\n",
        "word = \"Aesthetic Beauty\"\n",
        "text = word.split()\n",
        "a=\"\"\n",
        "\n",
        "for i in text:\n",
        "  a = a+ str(i[0].upper())\n",
        "\n",
        "print(a)\n",
        "\n",
        "End = time()\n",
        "\n",
        "execution_time = End - Start\n",
        "\n",
        "print(\"Execution Time : \", execution_time)"
      ],
      "metadata": {
        "colab": {
          "base_uri": "https://localhost:8080/"
        },
        "id": "rbdNE37aB1lp",
        "outputId": "0de07fef-3732-4768-e230-d585621e307e"
      },
      "execution_count": 11,
      "outputs": [
        {
          "output_type": "stream",
          "name": "stdout",
          "text": [
            "AB\n",
            "Execution Time :  0.0022804737091064453\n"
          ]
        }
      ]
    },
    {
      "cell_type": "code",
      "source": [
        "#Solution 2 :  Using Magic Command %%time for Jupyter Notebook\n",
        "\n",
        "%%time\n",
        "\n",
        "#Acronym Creation\n",
        "word = \"Aesthetic Beauty\"\n",
        "text = word.split()\n",
        "a=\"\"\n",
        "\n",
        "for i in text:\n",
        "  a = a+ str(i[0].upper())\n",
        "\n",
        "print(a)\n"
      ],
      "metadata": {
        "colab": {
          "base_uri": "https://localhost:8080/"
        },
        "id": "CN29RYMgCyTA",
        "outputId": "355c43cb-4335-48ae-a3d3-cb759cbf9fae"
      },
      "execution_count": 12,
      "outputs": [
        {
          "output_type": "stream",
          "name": "stdout",
          "text": [
            "AB\n",
            "CPU times: user 1.08 ms, sys: 5 µs, total: 1.09 ms\n",
            "Wall time: 1.97 ms\n"
          ]
        }
      ]
    },
    {
      "cell_type": "markdown",
      "source": [
        "# Progress Bar"
      ],
      "metadata": {
        "id": "QfJKwdf3FkGE"
      }
    },
    {
      "cell_type": "code",
      "source": [
        "# Solution 1 \n",
        "from tqdm import tqdm\n",
        "from time import sleep\n",
        "\n",
        "for i in tqdm(range(10)):\n",
        "  print(i)\n",
        "  sleep(1)"
      ],
      "metadata": {
        "colab": {
          "base_uri": "https://localhost:8080/"
        },
        "id": "yCXcKN9uD-od",
        "outputId": "052d330f-a531-4299-bcff-b71a4474f307"
      },
      "execution_count": 16,
      "outputs": [
        {
          "output_type": "stream",
          "name": "stderr",
          "text": [
            "\r  0%|          | 0/10 [00:00<?, ?it/s]"
          ]
        },
        {
          "output_type": "stream",
          "name": "stdout",
          "text": [
            "0\n"
          ]
        },
        {
          "output_type": "stream",
          "name": "stderr",
          "text": [
            "\r 10%|█         | 1/10 [00:01<00:09,  1.00s/it]"
          ]
        },
        {
          "output_type": "stream",
          "name": "stdout",
          "text": [
            "1\n"
          ]
        },
        {
          "output_type": "stream",
          "name": "stderr",
          "text": [
            "\r 20%|██        | 2/10 [00:02<00:08,  1.00s/it]"
          ]
        },
        {
          "output_type": "stream",
          "name": "stdout",
          "text": [
            "2\n"
          ]
        },
        {
          "output_type": "stream",
          "name": "stderr",
          "text": [
            "\r 30%|███       | 3/10 [00:03<00:07,  1.00s/it]"
          ]
        },
        {
          "output_type": "stream",
          "name": "stdout",
          "text": [
            "3\n"
          ]
        },
        {
          "output_type": "stream",
          "name": "stderr",
          "text": [
            "\r 40%|████      | 4/10 [00:04<00:06,  1.00s/it]"
          ]
        },
        {
          "output_type": "stream",
          "name": "stdout",
          "text": [
            "4\n"
          ]
        },
        {
          "output_type": "stream",
          "name": "stderr",
          "text": [
            "\r 50%|█████     | 5/10 [00:05<00:05,  1.00s/it]"
          ]
        },
        {
          "output_type": "stream",
          "name": "stdout",
          "text": [
            "5\n"
          ]
        },
        {
          "output_type": "stream",
          "name": "stderr",
          "text": [
            "\r 60%|██████    | 6/10 [00:06<00:04,  1.00s/it]"
          ]
        },
        {
          "output_type": "stream",
          "name": "stdout",
          "text": [
            "6\n"
          ]
        },
        {
          "output_type": "stream",
          "name": "stderr",
          "text": [
            "\r 70%|███████   | 7/10 [00:07<00:03,  1.00s/it]"
          ]
        },
        {
          "output_type": "stream",
          "name": "stdout",
          "text": [
            "7\n"
          ]
        },
        {
          "output_type": "stream",
          "name": "stderr",
          "text": [
            "\r 80%|████████  | 8/10 [00:08<00:02,  1.00s/it]"
          ]
        },
        {
          "output_type": "stream",
          "name": "stdout",
          "text": [
            "8\n"
          ]
        },
        {
          "output_type": "stream",
          "name": "stderr",
          "text": [
            "\r 90%|█████████ | 9/10 [00:09<00:01,  1.00s/it]"
          ]
        },
        {
          "output_type": "stream",
          "name": "stdout",
          "text": [
            "9\n"
          ]
        },
        {
          "output_type": "stream",
          "name": "stderr",
          "text": [
            "100%|██████████| 10/10 [00:10<00:00,  1.00s/it]\n"
          ]
        }
      ]
    },
    {
      "cell_type": "code",
      "source": [
        "# Solution 2\n",
        "from alive_progress import alive_bar\n",
        "\n",
        "with alive_bar(1000, force_tty = True) as bar:\n",
        "  for i in range(1000):\n",
        "    sleep(0.01)\n",
        "    bar()"
      ],
      "metadata": {
        "colab": {
          "base_uri": "https://localhost:8080/"
        },
        "id": "s_1OilAuGdy9",
        "outputId": "bd94f347-c6e0-482a-8c97-eecfcfdb114e"
      },
      "execution_count": 23,
      "outputs": [
        {
          "output_type": "stream",
          "name": "stdout",
          "text": [
            "|████████████████████████████████████████| 1000/1000 [100%] in 10.2s (98.35/s)  \n"
          ]
        }
      ]
    },
    {
      "cell_type": "code",
      "source": [
        "#!pip install alive_progress"
      ],
      "metadata": {
        "id": "oUji7N2WHsG-"
      },
      "execution_count": 21,
      "outputs": []
    },
    {
      "cell_type": "code",
      "source": [
        ""
      ],
      "metadata": {
        "id": "V_wd97QzHxlx"
      },
      "execution_count": null,
      "outputs": []
    }
  ]
}