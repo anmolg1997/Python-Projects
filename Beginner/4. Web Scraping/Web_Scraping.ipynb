{
  "nbformat": 4,
  "nbformat_minor": 0,
  "metadata": {
    "colab": {
      "name": "Web Scraping.ipynb",
      "provenance": [],
      "authorship_tag": "ABX9TyOgKYpAtbviY6coy18f81pc",
      "include_colab_link": true
    },
    "kernelspec": {
      "name": "python3",
      "display_name": "Python 3"
    },
    "language_info": {
      "name": "python"
    }
  },
  "cells": [
    {
      "cell_type": "markdown",
      "metadata": {
        "id": "view-in-github",
        "colab_type": "text"
      },
      "source": [
        "<a href=\"https://colab.research.google.com/github/anmolg1997/Python-Projects/blob/main/Web_Scraping.ipynb\" target=\"_parent\"><img src=\"https://colab.research.google.com/assets/colab-badge.svg\" alt=\"Open In Colab\"/></a>"
      ]
    },
    {
      "cell_type": "markdown",
      "source": [
        "#Scrape Table from a Website using Python"
      ],
      "metadata": {
        "id": "EW-xJ_TZLExK"
      }
    },
    {
      "cell_type": "markdown",
      "source": [
        "There are many Python libraries and modules that you can use for web scraping. To scrape a table from a website, I will use the urllib module in Python, which is already available in the Python standard library. So you don’t need to install any external library to scrape data from a website. Below is how you can use the urlib module to scrape a table from a website using Python programming language:"
      ],
      "metadata": {
        "id": "yfbesY-gLJT5"
      }
    },
    {
      "cell_type": "code",
      "execution_count": 8,
      "metadata": {
        "colab": {
          "base_uri": "https://localhost:8080/"
        },
        "id": "bxo7_X7DKorM",
        "outputId": "8f8e2697-cbcf-4d59-ab53-b73e6d7dfa4b"
      },
      "outputs": [
        {
          "output_type": "stream",
          "name": "stdout",
          "text": [
            "    Websites Popularity(unique visitors per month)[1]  Front-end(Client-side)  \\\n",
            "0  Google[2]                               1600000000  JavaScript, TypeScript   \n",
            "1   Facebook                               1120000000              JavaScript   \n",
            "2    YouTube                               1100000000   JavaScript,TypeScript   \n",
            "3      Yahoo                                750000000              JavaScript   \n",
            "4       Etsy                          516,000,000[15]              JavaScript   \n",
            "\n",
            "                               Back-end(Server-side)  \\\n",
            "0                  C, C++, Go,[3] Java, Python, Node   \n",
            "1  Hack, PHP (HHVM), Python, C++, Java, Erlang, D...   \n",
            "2                  C, C++, Python, Java, [11] Go[12]   \n",
            "3                                                PHP   \n",
            "4                                        PHP[16][17]   \n",
            "\n",
            "                                     Database  \\\n",
            "0                     Bigtable,[4] MariaDB[5]   \n",
            "1     MariaDB, MySQL,[9] HBase, Cassandra[10]   \n",
            "2            Vitess, BigTable, MariaDB[5][13]   \n",
            "3  PostgreSQL, HBase, Cassandra, MongoDB,[14]   \n",
            "4                            MySQL, Redis[18]   \n",
            "\n",
            "                                               Notes  \n",
            "0           The most used search engine in the world  \n",
            "1            The most visited social networking site  \n",
            "2  The most popular video sharing site [YouTube i...  \n",
            "3                                                NaN  \n",
            "4                                E-commerce website.  \n"
          ]
        }
      ],
      "source": [
        "import urllib.request\n",
        "import pandas as pd\n",
        "\n",
        "url = \"https://en.wikipedia.org/wiki/Programming_languages_used_in_most_popular_websites\"\n",
        "\n",
        "with urllib.request.urlopen(url) as i:\n",
        "  html = i.read()\n",
        "\n",
        "data = pd.read_html(html)[0]\n",
        "print(data.head())"
      ]
    },
    {
      "cell_type": "code",
      "source": [
        "#To save it in a CSV file\n",
        "#data.to_csv(\"programming.csv\")"
      ],
      "metadata": {
        "id": "xfakCjOaL5HB"
      },
      "execution_count": 10,
      "outputs": []
    },
    {
      "cell_type": "code",
      "source": [
        ""
      ],
      "metadata": {
        "id": "ta-8peuHM0yI"
      },
      "execution_count": null,
      "outputs": []
    }
  ]
}
